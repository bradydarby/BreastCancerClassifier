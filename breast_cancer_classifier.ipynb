{
 "cells": [
  {
   "attachments": {},
   "cell_type": "markdown",
   "metadata": {},
   "source": [
    "# Logistic Regression Model for Binary Classification of Breast Cancer"
   ]
  },
  {
   "attachments": {},
   "cell_type": "markdown",
   "metadata": {},
   "source": [
    "## Import Dependecies"
   ]
  },
  {
   "cell_type": "code",
   "execution_count": null,
   "metadata": {},
   "outputs": [],
   "source": [
    "import numpy as np\n",
    "import pandas as pd\n",
    "import sklearn.datasets\n",
    "from sklearn.model_selection import train_test_split\n",
    "from sklearn.linear_model import LogisticRegression\n",
    "from sklearn.metrics import accuracy_score"
   ]
  },
  {
   "attachments": {},
   "cell_type": "markdown",
   "metadata": {},
   "source": [
    "## Collect and Process Data"
   ]
  },
  {
   "cell_type": "code",
   "execution_count": null,
   "metadata": {},
   "outputs": [],
   "source": [
    "# load dataset from sklearn\n",
    "tumor_dataset = sklearn.datasets.load_breast_cancer()\n",
    "\n",
    "# create pandas dataframe with imported dataset\n",
    "tumor_df = pd.DataFrame(tumor_dataset.data, columns = tumor_dataset.feature_names)\n",
    "\n",
    "# add new column to dataframe describing the (binary) pre-assigned label\n",
    "tumor_df['label'] = tumor_dataset.target"
   ]
  },
  {
   "cell_type": "code",
   "execution_count": null,
   "metadata": {},
   "outputs": [],
   "source": [
    "# missing value check\n",
    "tumor_df.info()\n",
    "tumor_df.isnull().sum()"
   ]
  },
  {
   "cell_type": "code",
   "execution_count": null,
   "metadata": {},
   "outputs": [],
   "source": [
    "# stastical info\n",
    "tumor_df.describe()"
   ]
  },
  {
   "cell_type": "code",
   "execution_count": null,
   "metadata": {},
   "outputs": [],
   "source": [
    "# target distribution check\n",
    "tumor_df['label'].value_counts()"
   ]
  },
  {
   "cell_type": "code",
   "execution_count": null,
   "metadata": {},
   "outputs": [],
   "source": [
    "tumor_df.groupby('label').mean()"
   ]
  },
  {
   "attachments": {},
   "cell_type": "markdown",
   "metadata": {},
   "source": [
    "## Split Data into Training and Testing Sets"
   ]
  },
  {
   "cell_type": "code",
   "execution_count": null,
   "metadata": {},
   "outputs": [],
   "source": [
    "features = tumor_df.drop(columns='label', axis=1)\n",
    "target = tumor_df['label']\n",
    "\n",
    "# omit random state to change set splits\n",
    "features_trn, features_tst, target_trn, target_tst = train_test_split(features, target, test_size=0.2, random_state=2)"
   ]
  },
  {
   "attachments": {},
   "cell_type": "markdown",
   "metadata": {},
   "source": [
    "## Train Model"
   ]
  },
  {
   "attachments": {},
   "cell_type": "markdown",
   "metadata": {},
   "source": [
    "### Logistic Regression"
   ]
  },
  {
   "cell_type": "code",
   "execution_count": null,
   "metadata": {},
   "outputs": [],
   "source": [
    "# initialize model\n",
    "model = LogisticRegression()"
   ]
  },
  {
   "cell_type": "code",
   "execution_count": null,
   "metadata": {},
   "outputs": [],
   "source": [
    "# train with imported data\n",
    "model.fit(features_trn, target_trn)"
   ]
  },
  {
   "attachments": {},
   "cell_type": "markdown",
   "metadata": {},
   "source": [
    "## Model Evaluation"
   ]
  },
  {
   "attachments": {},
   "cell_type": "markdown",
   "metadata": {},
   "source": [
    "### Accuracy Score"
   ]
  },
  {
   "cell_type": "code",
   "execution_count": null,
   "metadata": {},
   "outputs": [],
   "source": [
    "# accuracy on training data\n",
    "features_trn_prediction = model.predict(features_trn)\n",
    "training_data_accuracy = accuracy_score(target_trn, features_trn_prediction)\n",
    "\n",
    "print('Accuracy on training data:\\n', training_data_accuracy)\n",
    "\n",
    "# accuracy on test data\n",
    "features_tst_prediction = model.predict(features_tst)\n",
    "testing_data_accuracy = accuracy_score(target_tst, features_tst_prediction)\n",
    "\n",
    "print('Accuracy on training data:\\n', testing_data_accuracy)"
   ]
  },
  {
   "attachments": {},
   "cell_type": "markdown",
   "metadata": {},
   "source": [
    "## Build Predictive System"
   ]
  },
  {
   "cell_type": "code",
   "execution_count": null,
   "metadata": {},
   "outputs": [],
   "source": [
    "# replace this data with input vector to be classified\n",
    "in_data = (20.57, 17.77, 132.9, 1326, 0.08474, 0.07864, 0.0869, 0.07017, 0.1812, 0.05667, 0.5435, 0.7339, 3.398, 74.08, 0.005225, 0.01308, 0.0186, 0.0134, 0.01389, 0.003532, 24.99, 23.41,158.8,1956,0.1238,0.1866,0.2416,0.186,0.275,0.08902)\n",
    "\n",
    "# use numpy array\n",
    "in_data_arr = np.asanyarray(in_data)\n",
    "\n",
    "# reshape to predict for one datapoint\n",
    "in_data_reshaped = in_data_arr.reshape(1, -1)\n",
    "\n",
    "prediction = model.predict(in_data_reshaped)\n",
    "\n",
    "diagnosis = 'Cancerous' if prediction[0] == 0 else 'Benign'\n",
    "\n",
    "print('Predicted diagnosis:\\n', diagnosis)"
   ]
  }
 ],
 "metadata": {
  "kernelspec": {
   "display_name": "Python 3",
   "language": "python",
   "name": "python3"
  },
  "language_info": {
   "codemirror_mode": {
    "name": "ipython",
    "version": 3
   },
   "file_extension": ".py",
   "mimetype": "text/x-python",
   "name": "python",
   "nbconvert_exporter": "python",
   "pygments_lexer": "ipython3",
   "version": "3.9.1"
  },
  "orig_nbformat": 4
 },
 "nbformat": 4,
 "nbformat_minor": 2
}
